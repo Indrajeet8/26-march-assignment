{
 "cells": [
  {
   "cell_type": "markdown",
   "id": "aa2010c4-e570-4386-a5a1-f80ddfa7beaa",
   "metadata": {},
   "source": [
    "# Regression-1"
   ]
  },
  {
   "cell_type": "markdown",
   "id": "9280c778-90b7-40ab-b3c6-caba89ca2120",
   "metadata": {},
   "source": [
    "### Assignment Questions"
   ]
  },
  {
   "cell_type": "code",
   "execution_count": null,
   "id": "0ff491f2-55ed-44c1-8dce-e72f7a1fe9b4",
   "metadata": {},
   "outputs": [],
   "source": [
    "#Q1. explain the diffrence beween simple linear regression and multiple linear regression .provide an example of each "
   ]
  },
  {
   "cell_type": "markdown",
   "id": "7d956c74-1e44-4b03-ae8c-a64c2eb7898e",
   "metadata": {},
   "source": [
    "Ans.\n",
    "Simple linear regression has only one x and one y variable. Multiple linear regression has one y and two or more x variables. For instance, when we predict rent based on square feet alone that is simple linear regression."
   ]
  },
  {
   "cell_type": "code",
   "execution_count": null,
   "id": "b6f37209-f82a-462d-a880-c7c8225d5f9a",
   "metadata": {},
   "outputs": [],
   "source": []
  },
  {
   "cell_type": "code",
   "execution_count": null,
   "id": "2750e31e-a52e-497f-b9b5-d9e99ca4288b",
   "metadata": {},
   "outputs": [],
   "source": [
    "#Q2.Discuss the assumption of linearregression . how cancheck whether these assumption hold in agiven dataset "
   ]
  },
  {
   "cell_type": "markdown",
   "id": "7b30ad28-9b7a-4293-9f20-0d5a787e0404",
   "metadata": {},
   "source": [
    "Ans."
   ]
  },
  {
   "cell_type": "markdown",
   "id": "bfb39d43-c012-41a6-83a6-8ffbb4f75754",
   "metadata": {},
   "source": [
    "linear regrassion is a statistical method used to model the relationship beween a dependant varible and one or more independent varibles the linear regression model makes several key assumpltion aboutthe data \n",
    "1. Linearity Assumption :\n",
    "    the relaionship between the indepent varibles varibles (X) and the dependant varibles (Y) is linear This means that a change in X ressults in a proportiinal change in Y assuming all varibles are held constant \n",
    "\n",
    "2. Independence Assumpion :\n",
    "the datapoints used in the regression model are indepentant of each other . \n",
    "\n"
   ]
  },
  {
   "cell_type": "code",
   "execution_count": null,
   "id": "4629b43d-3dee-447e-bf8b-3e698dd5a979",
   "metadata": {},
   "outputs": [],
   "source": []
  },
  {
   "cell_type": "code",
   "execution_count": null,
   "id": "ab75bbb7-fb7f-4954-aa76-ff07160ccbf1",
   "metadata": {},
   "outputs": [],
   "source": [
    "#Q3. How do you interpret the slope and intercept in a linear regression model . provide an aexample usiing a real world scenrio "
   ]
  },
  {
   "cell_type": "markdown",
   "id": "90172252-84b0-4cac-a2e6-4bef581057e1",
   "metadata": {},
   "source": [
    "linear regression model, the slope and intercept are essential components that help us understand and interpret the relationship between the independent variable(s) and the dependent variable. "
   ]
  },
  {
   "cell_type": "markdown",
   "id": "01953cfd-fb6f-4a5a-9390-87ecb26da085",
   "metadata": {},
   "source": [
    "1. Slope (Coefficient of the Independent Variable): \n",
    "2. Intercept (Y-Intercept): \n",
    "3. Scenario"
   ]
  },
  {
   "cell_type": "code",
   "execution_count": null,
   "id": "4556c0d5-2188-4df0-afd4-2e9123596ad7",
   "metadata": {},
   "outputs": [],
   "source": []
  },
  {
   "cell_type": "code",
   "execution_count": null,
   "id": "463c1c94-be18-407a-b59f-5288b2e27b50",
   "metadata": {},
   "outputs": [],
   "source": [
    "#Q4. Explain the concept of gradient descent. How is it used in machine learning?"
   ]
  },
  {
   "cell_type": "markdown",
   "id": "4f5013b2-ca66-4052-a619-becedfec41d6",
   "metadata": {},
   "source": [
    "Gradient descent is an optimization algorithm that finds the minimum of a function. In machine learning, it's used to update the parameters of a model. The parameters can vary by algorithm, such as coefficients in linear regression and weights in neural networks."
   ]
  },
  {
   "cell_type": "markdown",
   "id": "b335ee61-414d-4978-85bc-67848985b620",
   "metadata": {},
   "source": [
    "mize the cost function or the error of the model. It is used to find the minimum value of error possible in your model. Gradient Descent can be thought of as the direction you have to take to reach the least possible error."
   ]
  },
  {
   "cell_type": "code",
   "execution_count": null,
   "id": "91e27a9c-13fe-4b48-b2ef-c073bc8f3e2a",
   "metadata": {},
   "outputs": [],
   "source": [
    "#Q5. Describe the multiple linear regrassion model . How does it differ from simple linear regrassion "
   ]
  },
  {
   "cell_type": "markdown",
   "id": "c13ae91d-bc68-4dcf-9655-2dd131f8d3cd",
   "metadata": {},
   "source": [
    "Multiple regression is a broader class of regressions that encompasses linear and nonlinear regressions with multiple explanatory variables. Whereas linear regress only has one independent variable impacting the slope of the relationship, multiple regression incorporates multiple independent variables."
   ]
  },
  {
   "cell_type": "markdown",
   "id": "229a56cb-5c9b-4e46-a788-ed909d582d41",
   "metadata": {},
   "source": [
    "Multiple regression is a broader class of regressions that encompasses linear and nonlinear regressions with multiple explanatory variables.\n",
    "Whereas linear regress only has one independent variable impacting the slope of the relationship, multiple regression incorporates multiple independent variables."
   ]
  },
  {
   "cell_type": "code",
   "execution_count": null,
   "id": "e47094e6-db19-4f71-bfa4-b047529ab754",
   "metadata": {},
   "outputs": [],
   "source": []
  },
  {
   "cell_type": "code",
   "execution_count": null,
   "id": "49514391-5bb4-4a6d-be80-72dd01c6692c",
   "metadata": {},
   "outputs": [],
   "source": [
    "#Q6. Explain the concecpt of multicillinerity in multiple linear regrssion . how canyou detect andadressthis issue "
   ]
  },
  {
   "cell_type": "markdown",
   "id": "a5caa002-3a0c-48e5-a862-fa7d7ca53b54",
   "metadata": {},
   "source": [
    "multicollinearity occurs when independent varibles in a regression model are correlated \n",
    "this correlation is a problem beacouses indendent if thedegree of correlation "
   ]
  },
  {
   "cell_type": "markdown",
   "id": "480e0a8f-0407-4512-872b-5ab351020636",
   "metadata": {},
   "source": [
    "there are various ways to check for multicollinearity in your data, depending on the type and complexity of your regression model. Examining the correlation matrix of your independent variables and looking for high values (usually above 0.8 or below -0.8) is one of the most common methods."
   ]
  },
  {
   "cell_type": "code",
   "execution_count": null,
   "id": "235892ef-7aad-49e6-97f7-ae90f8df795a",
   "metadata": {},
   "outputs": [],
   "source": [
    "#Q7. Describe the polynomial regression model. How is it different from linear regression?"
   ]
  },
  {
   "cell_type": "markdown",
   "id": "a67e703c-4c91-4076-8443-d68b91579ff9",
   "metadata": {},
   "source": [
    "A polynomial regression model is a machine learning model that can capture non-linear relationships between variables by fitting a non-linear regression line, which may not be possible with simple linear regression. It is used when linear regression models may not adequately capture the complexity of the relationship"
   ]
  },
  {
   "cell_type": "markdown",
   "id": "1d1107b3-c3f0-4674-951b-2733792f1e36",
   "metadata": {},
   "source": [
    "Linear Regression is used to handle regression problems whereas Logistic regression is used to handle the classification problems"
   ]
  },
  {
   "cell_type": "code",
   "execution_count": null,
   "id": "83765b60-e065-4a4f-8d3c-ee0e683f4a72",
   "metadata": {},
   "outputs": [],
   "source": []
  }
 ],
 "metadata": {
  "kernelspec": {
   "display_name": "Python 3 (ipykernel)",
   "language": "python",
   "name": "python3"
  },
  "language_info": {
   "codemirror_mode": {
    "name": "ipython",
    "version": 3
   },
   "file_extension": ".py",
   "mimetype": "text/x-python",
   "name": "python",
   "nbconvert_exporter": "python",
   "pygments_lexer": "ipython3",
   "version": "3.10.8"
  }
 },
 "nbformat": 4,
 "nbformat_minor": 5
}
